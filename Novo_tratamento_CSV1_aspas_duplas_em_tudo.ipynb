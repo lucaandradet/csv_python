{
 "cells": [
  {
   "attachments": {},
   "cell_type": "markdown",
   "id": "d1f51e03",
   "metadata": {},
   "source": [
    "Importando as bibliotecas que serão utilizads "
   ]
  },
  {
   "cell_type": "code",
   "execution_count": 17,
   "id": "c2bcc850",
   "metadata": {},
   "outputs": [],
   "source": [
    "import pandas as pd\n",
    "import time\n",
    "import os\n",
    "from datetime import datetime\n",
    "import re\n",
    "import csv"
   ]
  },
  {
   "attachments": {},
   "cell_type": "markdown",
   "id": "465d8ee0",
   "metadata": {},
   "source": [
    "Leitura do arquivo de Entrada no ambiente local onde se encontra código Jupyter ou outro diretório a definir"
   ]
  },
  {
   "cell_type": "code",
   "execution_count": 18,
   "id": "a0734ead",
   "metadata": {},
   "outputs": [],
   "source": [
    "def ler_csv():\n",
    "    \n",
    "    global df\n",
    "    \n",
    "    #Na linha abaixo inserir o nome do arquivo não padronizado\n",
    "    df = pd.read_csv('prestadoras_acreditadas_QUALISS.csv', sep=';', float_precision='round_trip'\n",
    "                     #, encoding='latin-1' #Remover o tratamento do encoding se gerar erro no tratamento dos caracteres especiais\n",
    "                     )\n",
    "    \n",
    "    df.columns = df.columns.str.upper()\n",
    "        \n",
    "    print(df.head(0))\n",
    "              \n",
    "    return   "
   ]
  },
  {
   "attachments": {},
   "cell_type": "markdown",
   "id": "1fc9993b",
   "metadata": {},
   "source": [
    "Geração e exportação do arquivo .csv Padronizado para o ambiente local ou outro diretório a definir"
   ]
  },
  {
   "cell_type": "code",
   "execution_count": 22,
   "id": "c82f6a7c",
   "metadata": {},
   "outputs": [],
   "source": [
    "def gera_padronizado():\n",
    "    ler_csv()\n",
    "    \n",
    "    # Na linha abaixo inserir o nome que ficará o arquivo após ser padronizado\n",
    "    arqname = 'prestadoras_acreditadas_QUALISS_padronizado.csv'\n",
    "    \n",
    "    # Exporta o arquivo para o seu ambiente local \n",
    "    with open(arqname, mode='w', newline='', encoding='UTF-8') as f:\n",
    "        writer = csv.writer(f, delimiter=';', quoting=csv.QUOTE_ALL) #Insere aspas duplas em tudo\n",
    "        #writer = csv.writer(f, delimiter=';', quoting=csv.QUOTE_NONE) #Não insere aspas duplas na primeira linha\n",
    "        writer.writerow(df.columns)\n",
    "        #writer = csv.writer(f, delimiter=';', quoting=csv.QUOTE_NONNUMERIC) #Não insere aspas duplas em campos numéricos\n",
    "        for row in df.itertuples(index=False):\n",
    "            writer.writerow(row)\n",
    "    \n",
    "    return"
   ]
  },
  {
   "attachments": {},
   "cell_type": "markdown",
   "id": "b29dff0e",
   "metadata": {},
   "source": [
    "Rotina Principal"
   ]
  },
  {
   "cell_type": "code",
   "execution_count": null,
   "id": "cb8a05aa",
   "metadata": {},
   "outputs": [],
   "source": [
    "start_time = datetime.now()\n",
    "\n",
    "gera_padronizado()\n",
    "\n",
    "end_time = datetime.now()\n",
    "\n",
    "print('Duração: {}'.format(end_time - start_time)) "
   ]
  },
  {
   "cell_type": "code",
   "execution_count": null,
   "id": "f8d3dcc0",
   "metadata": {},
   "outputs": [],
   "source": []
  }
 ],
 "metadata": {
  "kernelspec": {
   "display_name": "Python 3 (ipykernel)",
   "language": "python",
   "name": "python3"
  },
  "language_info": {
   "codemirror_mode": {
    "name": "ipython",
    "version": 3
   },
   "file_extension": ".py",
   "mimetype": "text/x-python",
   "name": "python",
   "nbconvert_exporter": "python",
   "pygments_lexer": "ipython3",
   "version": "3.11.2"
  }
 },
 "nbformat": 4,
 "nbformat_minor": 5
}
