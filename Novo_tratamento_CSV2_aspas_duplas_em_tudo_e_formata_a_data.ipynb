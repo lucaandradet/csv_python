{
 "cells": [
  {
   "attachments": {},
   "cell_type": "markdown",
   "metadata": {},
   "source": [
    "Importando bibliotecas"
   ]
  },
  {
   "cell_type": "code",
   "execution_count": 24,
   "metadata": {},
   "outputs": [],
   "source": [
    "import pandas as pd\n",
    "import time\n",
    "import os\n",
    "from datetime import datetime\n",
    "import re\n",
    "import csv"
   ]
  },
  {
   "attachments": {},
   "cell_type": "markdown",
   "metadata": {},
   "source": [
    "Criação do arquivo de leitura"
   ]
  },
  {
   "cell_type": "code",
   "execution_count": 25,
   "metadata": {},
   "outputs": [],
   "source": [
    "def ler_csv():\n",
    "    \n",
    "    global df\n",
    "    \n",
    "    #Na linha abaixo inserir o nome do arquivo não padronizado\n",
    "    df = pd.read_csv('prestadoras_acreditadas_QUALISS.csv', sep=';', float_precision='round_trip', encoding='latin-1')\n",
    "    \n",
    "    df.columns = df.columns.str.upper()\n",
    "        \n",
    "    print(df.head(10))\n",
    "              \n",
    "    return   "
   ]
  },
  {
   "attachments": {},
   "cell_type": "markdown",
   "metadata": {},
   "source": [
    "Geração e exportação do arquivo .csv Padronizado para o ambiente local ou outro diretório a definir"
   ]
  },
  {
   "cell_type": "code",
   "execution_count": 26,
   "metadata": {},
   "outputs": [],
   "source": [
    "def gera_padronizado():\n",
    "    ler_csv()\n",
    "    \n",
    "    # Na linha abaixo inserir o nome que ficará o arquivo após ser padronizado\n",
    "    arqname = 'prestadoras_acreditadas_QUALISS_padronizado.csv'\n",
    "    \n",
    "    # Adiciona aspas duplas aos campos\n",
    "    quoting = csv.QUOTE_ALL\n",
    "    \n",
    "    # Trata campos do tipo datetime\n",
    "    date_format = '%Y-%m-%d %H:%M:%S'\n",
    "\n",
    "    # Converte colunas datetime para o tipo date e converte novamente para string usando o novo formato\n",
    "    for c in df.columns:\n",
    "        if df[c].dtype == 'datetime64[ns]':\n",
    "            df[c] = df[c].dt.strftime(date_format)\n",
    "    \n",
    "    # Converte o último campo para o tipo datetime\n",
    "    last_col_name = df.columns[-1]\n",
    "    df[last_col_name] = pd.to_datetime(df[last_col_name], format='%d/%m/%Y %H:%M:%S')\n",
    "\n",
    "    # Converte o último campo para o tipo string usando o novo formato\n",
    "    df[last_col_name] = df[last_col_name].dt.strftime('%Y-%m-%d %H:%M')\n",
    "    \n",
    "    # Exporta o arquivo para o seu ambiente local \n",
    "    df.to_csv(arqname, sep=';', index=False, quoting=quoting, date_format=date_format, decimal=',',\n",
    "              encoding='UTF-8', header=True) \n",
    "    \n",
    "    return"
   ]
  },
  {
   "attachments": {},
   "cell_type": "markdown",
   "metadata": {},
   "source": [
    "Rotina Principal"
   ]
  },
  {
   "cell_type": "code",
   "execution_count": null,
   "metadata": {},
   "outputs": [],
   "source": [
    "start_time = datetime.now()\n",
    "\n",
    "gera_padronizado()\n",
    "\n",
    "end_time = datetime.now()\n",
    "\n",
    "print('Duração: {}'.format(end_time - start_time)) "
   ]
  },
  {
   "cell_type": "code",
   "execution_count": null,
   "metadata": {},
   "outputs": [],
   "source": []
  }
 ],
 "metadata": {
  "kernelspec": {
   "display_name": "Python 3 (ipykernel)",
   "language": "python",
   "name": "python3"
  },
  "language_info": {
   "codemirror_mode": {
    "name": "ipython",
    "version": 3
   },
   "file_extension": ".py",
   "mimetype": "text/x-python",
   "name": "python",
   "nbconvert_exporter": "python",
   "pygments_lexer": "ipython3",
   "version": "3.10.8"
  }
 },
 "nbformat": 4,
 "nbformat_minor": 2
}
